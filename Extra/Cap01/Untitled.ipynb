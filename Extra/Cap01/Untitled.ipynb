{
 "cells": [
  {
   "cell_type": "code",
   "execution_count": 1,
   "metadata": {},
   "outputs": [],
   "source": [
    "import pandas as pd"
   ]
  },
  {
   "cell_type": "code",
   "execution_count": 2,
   "metadata": {},
   "outputs": [
    {
     "ename": "SyntaxError",
     "evalue": "(unicode error) 'unicodeescape' codec can't decode bytes in position 2-3: truncated \\UXXXXXXXX escape (<ipython-input-2-6ad08124124d>, line 1)",
     "output_type": "error",
     "traceback": [
      "\u001b[1;36m  File \u001b[1;32m\"<ipython-input-2-6ad08124124d>\"\u001b[1;36m, line \u001b[1;32m1\u001b[0m\n\u001b[1;33m    df = pd.read_csv(\"C:\\Users\\Rafael\\OneDrive\\Python\\PythonFundamentos\\cap01\\data-1588634683015.csv\")\u001b[0m\n\u001b[1;37m                    ^\u001b[0m\n\u001b[1;31mSyntaxError\u001b[0m\u001b[1;31m:\u001b[0m (unicode error) 'unicodeescape' codec can't decode bytes in position 2-3: truncated \\UXXXXXXXX escape\n"
     ]
    }
   ],
   "source": [
    "df = pd.read_csv(\"C:\\Users\\Rafael\\OneDrive\\Python\\PythonFundamentos\\cap01\\data-1588634683015.csv\")"
   ]
  },
  {
   "cell_type": "code",
   "execution_count": 3,
   "metadata": {},
   "outputs": [
    {
     "ename": "SyntaxError",
     "evalue": "invalid syntax (<ipython-input-3-8dd9cf71024a>, line 1)",
     "output_type": "error",
     "traceback": [
      "\u001b[1;36m  File \u001b[1;32m\"<ipython-input-3-8dd9cf71024a>\"\u001b[1;36m, line \u001b[1;32m1\u001b[0m\n\u001b[1;33m    df = pd.read_csv(data-1588634683015.csv\")\u001b[0m\n\u001b[1;37m                                          ^\u001b[0m\n\u001b[1;31mSyntaxError\u001b[0m\u001b[1;31m:\u001b[0m invalid syntax\n"
     ]
    }
   ],
   "source": [
    "df = pd.read_csv(data-1588634683015.csv\")"
   ]
  },
  {
   "cell_type": "code",
   "execution_count": 4,
   "metadata": {},
   "outputs": [],
   "source": [
    "df = pd.read_csv(\"data-1588634683015.csv\")"
   ]
  },
  {
   "cell_type": "code",
   "execution_count": 5,
   "metadata": {},
   "outputs": [
    {
     "data": {
      "text/html": [
       "<div>\n",
       "<style scoped>\n",
       "    .dataframe tbody tr th:only-of-type {\n",
       "        vertical-align: middle;\n",
       "    }\n",
       "\n",
       "    .dataframe tbody tr th {\n",
       "        vertical-align: top;\n",
       "    }\n",
       "\n",
       "    .dataframe thead th {\n",
       "        text-align: right;\n",
       "    }\n",
       "</style>\n",
       "<table border=\"1\" class=\"dataframe\">\n",
       "  <thead>\n",
       "    <tr style=\"text-align: right;\">\n",
       "      <th></th>\n",
       "      <th>data;turno;hora;seq;operacao;produto;bico;quantidade;deposito;pessoa;documento;tipo_doc;data_doc;tributacao;preco_unit;valor;vendedor;abastecimento;hora_abastec;usuario;estacao;empresa;mlid;grid;conta;nr_item;produto_kit;produto_kit_id;encerrante;valor_desconto;preco_unit_orig;orcamento_produto;ponto;cupom_produto;medicao_sugerida;comanda;comanda_produto;departamento;mesa_produto;tipo_desconto;obs;preco_unit_venda;motivo_inventario;abastecimento_manual;preco_unit_base;preco_unit_prazo;preco_unit_bico;dia_fiscal;cst_pis;cst_cofins;natureza_receita;preco_unit_fiscal;numero_pedido;numero_item_pedido;relevante</th>\n",
       "    </tr>\n",
       "  </thead>\n",
       "  <tbody>\n",
       "    <tr>\n",
       "      <th>0</th>\n",
       "      <td>30/06/2012;99;03/07/2012 16:09;7;M;10333;;6119...</td>\n",
       "    </tr>\n",
       "    <tr>\n",
       "      <th>1</th>\n",
       "      <td>09/09/2012;1;09/09/2012 07:44;26;V;17179876382...</td>\n",
       "    </tr>\n",
       "    <tr>\n",
       "      <th>2</th>\n",
       "      <td>04/07/2012;2;04/07/2012 13:22;40;V;10333;6;21....</td>\n",
       "    </tr>\n",
       "    <tr>\n",
       "      <th>3</th>\n",
       "      <td>04/07/2012;3;04/07/2012 23:25;203;V;10333;18;1...</td>\n",
       "    </tr>\n",
       "    <tr>\n",
       "      <th>4</th>\n",
       "      <td>05/07/2012;3;05/07/2012 22:27;218;V;10333;15;4...</td>\n",
       "    </tr>\n",
       "  </tbody>\n",
       "</table>\n",
       "</div>"
      ],
      "text/plain": [
       "  data;turno;hora;seq;operacao;produto;bico;quantidade;deposito;pessoa;documento;tipo_doc;data_doc;tributacao;preco_unit;valor;vendedor;abastecimento;hora_abastec;usuario;estacao;empresa;mlid;grid;conta;nr_item;produto_kit;produto_kit_id;encerrante;valor_desconto;preco_unit_orig;orcamento_produto;ponto;cupom_produto;medicao_sugerida;comanda;comanda_produto;departamento;mesa_produto;tipo_desconto;obs;preco_unit_venda;motivo_inventario;abastecimento_manual;preco_unit_base;preco_unit_prazo;preco_unit_bico;dia_fiscal;cst_pis;cst_cofins;natureza_receita;preco_unit_fiscal;numero_pedido;numero_item_pedido;relevante\n",
       "0  30/06/2012;99;03/07/2012 16:09;7;M;10333;;6119...                                                                                                                                                                                                                                                                                                                                                                                                                                                                                                                                                                                   \n",
       "1  09/09/2012;1;09/09/2012 07:44;26;V;17179876382...                                                                                                                                                                                                                                                                                                                                                                                                                                                                                                                                                                                   \n",
       "2  04/07/2012;2;04/07/2012 13:22;40;V;10333;6;21....                                                                                                                                                                                                                                                                                                                                                                                                                                                                                                                                                                                   \n",
       "3  04/07/2012;3;04/07/2012 23:25;203;V;10333;18;1...                                                                                                                                                                                                                                                                                                                                                                                                                                                                                                                                                                                   \n",
       "4  05/07/2012;3;05/07/2012 22:27;218;V;10333;15;4...                                                                                                                                                                                                                                                                                                                                                                                                                                                                                                                                                                                   "
      ]
     },
     "execution_count": 5,
     "metadata": {},
     "output_type": "execute_result"
    }
   ],
   "source": [
    "df.head()"
   ]
  },
  {
   "cell_type": "code",
   "execution_count": null,
   "metadata": {},
   "outputs": [],
   "source": []
  }
 ],
 "metadata": {
  "kernelspec": {
   "display_name": "Python 3",
   "language": "python",
   "name": "python3"
  },
  "language_info": {
   "codemirror_mode": {
    "name": "ipython",
    "version": 3
   },
   "file_extension": ".py",
   "mimetype": "text/x-python",
   "name": "python",
   "nbconvert_exporter": "python",
   "pygments_lexer": "ipython3",
   "version": "3.6.5"
  }
 },
 "nbformat": 4,
 "nbformat_minor": 2
}
